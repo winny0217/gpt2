{
  "nbformat": 4,
  "nbformat_minor": 0,
  "metadata": {
    "colab": {
      "provenance": [],
      "gpuType": "T4",
      "authorship_tag": "ABX9TyPXWYRHJx+bvszktqNFQpcD",
      "include_colab_link": true
    },
    "kernelspec": {
      "name": "python3",
      "display_name": "Python 3"
    },
    "language_info": {
      "name": "python"
    },
    "accelerator": "GPU"
  },
  "cells": [
    {
      "cell_type": "markdown",
      "metadata": {
        "id": "view-in-github",
        "colab_type": "text"
      },
      "source": [
        "<a href=\"https://colab.research.google.com/github/winny0217/gpt2/blob/main/gpt2_2.ipynb\" target=\"_parent\"><img src=\"https://colab.research.google.com/assets/colab-badge.svg\" alt=\"Open In Colab\"/></a>"
      ]
    },
    {
      "cell_type": "code",
      "source": [
        "from transformers import GPT2LMHeadModel, AutoTokenizer\n",
        "import torch\n",
        "\n",
        "# 選擇 GPT-2 中文模型\n",
        "model_name = \"uer/gpt2-chinese-cluecorpussmall\"\n",
        "tokenizer = AutoTokenizer.from_pretrained(model_name)\n",
        "model = GPT2LMHeadModel.from_pretrained(model_name)\n",
        "\n",
        "if torch.cuda.is_available():\n",
        "    model.to(\"cuda\")\n",
        "\n",
        "def generate_next_phrase(text, max_new_tokens=5):\n",
        "    input_ids = tokenizer.encode(text, return_tensors=\"pt\")\n",
        "    if torch.cuda.is_available():\n",
        "        input_ids = input_ids.to(\"cuda\")\n",
        "\n",
        "    output_ids = model.generate(\n",
        "        input_ids,\n",
        "        max_new_tokens=max_new_tokens,  # 最多補 5 個 token\n",
        "        do_sample=True,\n",
        "        top_k=50,\n",
        "        temperature=0.8,\n",
        "        repetition_penalty=1.2,\n",
        "        pad_token_id=tokenizer.eos_token_id\n",
        "    )\n",
        "    generated_text = tokenizer.decode(output_ids[0], skip_special_tokens=True)\n",
        "    added_text = generated_text[len(text):].strip()\n",
        "\n",
        "    # 控制補的字數（三個字）\n",
        "    phrase = ''.join([ch for ch in added_text if ch.strip()])[:3]\n",
        "    return phrase, generated_text\n",
        "\n",
        "# ==== 測試 ====\n",
        "sentence = \"我今天想去\"\n",
        "phrase, full_sentence = generate_next_phrase(sentence)\n",
        "print(f\"原句：{sentence}\")\n",
        "print(f\"補的短語：約三個字 → {phrase}\")\n",
        "print(f\"完整句子：{full_sentence}\")"
      ],
      "metadata": {
        "colab": {
          "base_uri": "https://localhost:8080/"
        },
        "id": "2ci_pBl1jpDI",
        "outputId": "7085f047-4c08-463b-9449-14aae1a8ea52"
      },
      "execution_count": 19,
      "outputs": [
        {
          "output_type": "stream",
          "name": "stderr",
          "text": [
            "The attention mask and the pad token id were not set. As a consequence, you may observe unexpected behavior. Please pass your input's `attention_mask` to obtain reliable results.\n",
            "Setting `pad_token_id` to `eos_token_id`:50256 for open-end generation.\n"
          ]
        },
        {
          "output_type": "stream",
          "name": "stdout",
          "text": [
            "原句：我今天想去\n",
            "補的短語：約三個字 → 想去可\n",
            "完整句子：我 今 天 想 去 可 看 到 老 鼠\n"
          ]
        }
      ]
    },
    {
      "cell_type": "code",
      "source": [],
      "metadata": {
        "id": "VVz5kSmOCfJc"
      },
      "execution_count": null,
      "outputs": []
    },
    {
      "cell_type": "code",
      "source": [
        "from transformers import pipeline, GPT2LMHeadModel, AutoTokenizer\n",
        "import torch\n",
        "\n",
        "# 使用中文 GPT-2\n",
        "model_name = \"uer/gpt2-chinese-cluecorpussmall\"\n",
        "tokenizer = AutoTokenizer.from_pretrained(model_name)\n",
        "model = GPT2LMHeadModel.from_pretrained(model_name)\n",
        "generator = pipeline('text-generation', model=model, tokenizer=tokenizer)\n",
        "\n",
        "\n",
        "if torch.cuda.is_available():\n",
        "    model.to(\"cuda\")\n",
        "\n",
        "# 計算句子困惑度（Perplexity）\n",
        "def calculate_perplexity(sentence):\n",
        "    encodings = tokenizer(sentence, return_tensors='pt')\n",
        "    if torch.cuda.is_available():\n",
        "        encodings = {k: v.to(\"cuda\") for k, v in encodings.items()}\n",
        "\n",
        "    with torch.no_grad():\n",
        "        outputs = model(**encodings, labels=encodings[\"input_ids\"])\n",
        "    loss = outputs.loss\n",
        "    return torch.exp(loss).item()  # perplexity\n",
        "\n",
        "# 生成候選詞並過濾\n",
        "def suggest_next_word(sentence, max_new_tokens=3, num_return_sequences=5):\n",
        "    results = generator(\n",
        "        sentence,\n",
        "        max_new_tokens=max_new_tokens,\n",
        "        do_sample=True,\n",
        "        top_k=50,\n",
        "        temperature=0.8,\n",
        "        num_return_sequences=num_return_sequences\n",
        "    )\n",
        "\n",
        "    candidates = []\n",
        "    for r in results:\n",
        "        text = r['generated_text'][len(sentence):].strip()\n",
        "        word = ''.join([ch for ch in text if ch.strip()])[:3]\n",
        "        if word:\n",
        "            candidates.append(word)\n",
        "\n",
        "    # 根據困惑度排序（越小越通順）\n",
        "    scored_candidates = []\n",
        "    for word in candidates:\n",
        "        new_sentence = sentence + word\n",
        "        perplexity = calculate_perplexity(new_sentence)\n",
        "        scored_candidates.append((word, perplexity))\n",
        "\n",
        "    scored_candidates.sort(key=lambda x: x[1])\n",
        "    return scored_candidates[:3]  # 取前3個最通順的詞"
      ],
      "metadata": {
        "colab": {
          "base_uri": "https://localhost:8080/"
        },
        "id": "XTIrKoW-ooEG",
        "outputId": "9d2fb5a7-5ea7-4099-d9a1-91a1f042faf0"
      },
      "execution_count": 15,
      "outputs": [
        {
          "output_type": "stream",
          "name": "stderr",
          "text": [
            "Device set to use cuda:0\n"
          ]
        }
      ]
    },
    {
      "cell_type": "code",
      "source": [
        "sentence = \"我今天想去\"\n",
        "print(f\"初始句子：{sentence}\")\n",
        "\n",
        "while True:\n",
        "    candidates = suggest_next_word(sentence)\n",
        "    print(\"建議詞（已按語境一致性排序）:\")\n",
        "    for i, (word, score) in enumerate(candidates):\n",
        "        print(f\"{i}. {word} (PPL={score:.2f})\")\n",
        "\n",
        "    choice = input(\"選擇(輸入序號採用，n重新生成，exit結束): \").strip().lower()\n",
        "\n",
        "    if choice == \"exit\":\n",
        "        break\n",
        "    elif choice.isdigit() and 0 <= int(choice) < len(candidates):\n",
        "        sentence += candidates[int(choice)][0]\n",
        "        print(f\"目前句子：{sentence}\")\n",
        "    else:\n",
        "        print(\"重新生成...\")"
      ],
      "metadata": {
        "colab": {
          "base_uri": "https://localhost:8080/"
        },
        "id": "t0T8-GAlq-gk",
        "outputId": "3d359f37-b34c-4a28-a169-c3bd4d003f43"
      },
      "execution_count": 16,
      "outputs": [
        {
          "name": "stdout",
          "output_type": "stream",
          "text": [
            "初始句子：我今天想去\n",
            "建議詞（已按語境一致性排序）:\n",
            "0. 大拇指 (PPL=36.61)\n",
            "1. 到这里 (PPL=54.71)\n",
            "2. 到这家 (PPL=59.19)\n",
            "選擇(輸入序號採用，n重新生成，exit結束): n\n",
            "重新生成...\n",
            "建議詞（已按語境一致性排序）:\n",
            "0. 里面吃 (PPL=48.85)\n",
            "1. 歌城唱 (PPL=56.43)\n",
            "2. 东街逛 (PPL=79.78)\n",
            "選擇(輸入序號採用，n重新生成，exit結束): 2\n",
            "目前句子：我今天想去东街逛\n",
            "建議詞（已按語境一致性排序）:\n",
            "0. 到这家 (PPL=64.98)\n",
            "1. 想到去 (PPL=109.77)\n",
            "2. 想起这 (PPL=124.97)\n",
            "選擇(輸入序號採用，n重新生成，exit結束): exit\n"
          ]
        }
      ]
    }
  ]
}