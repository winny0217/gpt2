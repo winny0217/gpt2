{
  "nbformat": 4,
  "nbformat_minor": 0,
  "metadata": {
    "colab": {
      "provenance": [],
      "authorship_tag": "ABX9TyNkwPlgjZd6Bi9v2JbF+ezF",
      "include_colab_link": true
    },
    "kernelspec": {
      "name": "python3",
      "display_name": "Python 3"
    },
    "language_info": {
      "name": "python"
    }
  },
  "cells": [
    {
      "cell_type": "markdown",
      "metadata": {
        "id": "view-in-github",
        "colab_type": "text"
      },
      "source": [
        "<a href=\"https://colab.research.google.com/github/winny0217/gpt2/blob/main/gpt2_4ipynb.ipynb\" target=\"_parent\"><img src=\"https://colab.research.google.com/assets/colab-badge.svg\" alt=\"Open In Colab\"/></a>"
      ]
    },
    {
      "cell_type": "code",
      "execution_count": 2,
      "metadata": {
        "id": "fsJlHB7Qywx1"
      },
      "outputs": [],
      "source": [
        "import torch\n",
        "from transformers import GPT2LMHeadModel, GPT2Tokenizer\n",
        "import torch.nn.functional as F"
      ]
    },
    {
      "cell_type": "code",
      "source": [
        "# 使用繁體中文 GPT-2 模型\n",
        "model_name = \"ckiplab/gpt2-base-chinese\"\n",
        "from transformers import AutoTokenizer\n",
        "tokenizer = AutoTokenizer.from_pretrained(model_name)\n",
        "model = GPT2LMHeadModel.from_pretrained(model_name)\n",
        "\n",
        "# 設置模型到GPU（如果可用）\n",
        "device = \"cuda\" if torch.cuda.is_available() else \"cpu\"\n",
        "model.to(device)\n",
        "model.eval()"
      ],
      "metadata": {
        "colab": {
          "base_uri": "https://localhost:8080/"
        },
        "id": "T_SAz4HOzpOV",
        "outputId": "844ea23d-d1e1-479b-fb33-407afaaa6083"
      },
      "execution_count": 16,
      "outputs": [
        {
          "output_type": "execute_result",
          "data": {
            "text/plain": [
              "GPT2LMHeadModel(\n",
              "  (transformer): GPT2Model(\n",
              "    (wte): Embedding(21128, 768)\n",
              "    (wpe): Embedding(1024, 768)\n",
              "    (drop): Dropout(p=0.1, inplace=False)\n",
              "    (h): ModuleList(\n",
              "      (0-11): 12 x GPT2Block(\n",
              "        (ln_1): LayerNorm((768,), eps=1e-05, elementwise_affine=True)\n",
              "        (attn): GPT2Attention(\n",
              "          (c_attn): Conv1D(nf=2304, nx=768)\n",
              "          (c_proj): Conv1D(nf=768, nx=768)\n",
              "          (attn_dropout): Dropout(p=0.1, inplace=False)\n",
              "          (resid_dropout): Dropout(p=0.1, inplace=False)\n",
              "        )\n",
              "        (ln_2): LayerNorm((768,), eps=1e-05, elementwise_affine=True)\n",
              "        (mlp): GPT2MLP(\n",
              "          (c_fc): Conv1D(nf=3072, nx=768)\n",
              "          (c_proj): Conv1D(nf=768, nx=3072)\n",
              "          (act): NewGELUActivation()\n",
              "          (dropout): Dropout(p=0.1, inplace=False)\n",
              "        )\n",
              "      )\n",
              "    )\n",
              "    (ln_f): LayerNorm((768,), eps=1e-05, elementwise_affine=True)\n",
              "  )\n",
              "  (lm_head): Linear(in_features=768, out_features=21128, bias=False)\n",
              ")"
            ]
          },
          "metadata": {},
          "execution_count": 16
        }
      ]
    },
    {
      "cell_type": "code",
      "source": [
        "def get_three_word_suggestions(input_text, top_k=5, temperature=0.8):\n",
        "    # 編碼輸入文字\n",
        "    input_ids = tokenizer.encode(input_text, return_tensors=\"pt\").to(device)\n",
        "\n",
        "    suggestions = []\n",
        "\n",
        "    with torch.no_grad():\n",
        "        # 一次性生成三個字的詞語\n",
        "        current_ids = input_ids.clone()\n",
        "\n",
        "        for position in range(3):  # 生成三個字\n",
        "            # 模型預測\n",
        "            outputs = model(current_ids)\n",
        "            logits = outputs.logits[0, -1, :] / temperature  # 應用溫度參數\n",
        "\n",
        "            # 獲取前k個候選\n",
        "            top_k_probs, top_k_ids = torch.topk(F.softmax(logits, dim=-1), top_k)\n",
        "\n",
        "            # 解碼候選字符\n",
        "            position_candidates = []\n",
        "            for i in range(top_k):\n",
        "                token_id = top_k_ids[i].item()\n",
        "                token = tokenizer.decode([token_id]).strip()\n",
        "                prob = top_k_probs[i].item()\n",
        "\n",
        "                # 過濾特殊符號和空白\n",
        "                if token and token not in ['<|endoftext|>', '[UNK]', '<pad>'] and len(token.strip()) > 0:\n",
        "                    position_candidates.append({\n",
        "                        'token': token,\n",
        "                        'probability': prob,\n",
        "                        'token_id': token_id\n",
        "                    })\n",
        "\n",
        "            suggestions.append(position_candidates[:top_k])\n",
        "\n",
        "            # 為下一次預測選擇概率最高的字符\n",
        "            if position_candidates:\n",
        "                selected_token_id = position_candidates[0]['token_id']\n",
        "                current_ids = torch.cat([current_ids, torch.tensor([[selected_token_id]], device=device)], dim=1)\n",
        "\n",
        "    return suggestions"
      ],
      "metadata": {
        "id": "3NbH3UMEzmAm"
      },
      "execution_count": 11,
      "outputs": []
    },
    {
      "cell_type": "code",
      "source": [
        "def generate_complete_words(input_text, num_words=5):\n",
        "    input_ids = tokenizer.encode(input_text, return_tensors=\"pt\").to(device)\n",
        "    complete_words = []\n",
        "\n",
        "    with torch.no_grad():\n",
        "        for _ in range(num_words):\n",
        "            current_ids = input_ids.clone()\n",
        "            word = \"\"\n",
        "\n",
        "            # 生成三個字的完整詞語\n",
        "            for _ in range(3):\n",
        "                outputs = model(current_ids)\n",
        "                logits = outputs.logits[0, -1, :]\n",
        "\n",
        "                # 使用較低的溫度確保連貫性，但保持一定隨機性\n",
        "                probs = F.softmax(logits / 0.7, dim=-1)\n",
        "\n",
        "                # 從概率分布中採樣，而不是總是選擇最高概率的\n",
        "                next_token_id = torch.multinomial(probs, num_samples=1).item()\n",
        "                next_token = tokenizer.decode([next_token_id]).strip()\n",
        "\n",
        "                # 過濾無效字符\n",
        "                if next_token and next_token not in ['<|endoftext|>', '[UNK]', '<pad>'] and len(next_token.strip()) > 0:\n",
        "                    word += next_token\n",
        "                    current_ids = torch.cat([current_ids, torch.tensor([[next_token_id]], device=device)], dim=1)\n",
        "                else:\n",
        "                    break\n",
        "\n",
        "            if len(word) == 3 and word not in complete_words:\n",
        "                complete_words.append(word)\n",
        "\n",
        "    return complete_words"
      ],
      "metadata": {
        "id": "5DscSZnJzW0t"
      },
      "execution_count": 12,
      "outputs": []
    },
    {
      "cell_type": "code",
      "source": [
        "def interactive_word_completion():\n",
        "    \"\"\"\n",
        "    互動式詞語補全系統\n",
        "    \"\"\"\n",
        "    print(\"=== 繁體中文三字詞語補全系統 ===\")\n",
        "    print(\"輸入文字，系統將建議三個字的詞語\")\n",
        "    print(\"輸入 'quit' 結束程式\\n\")\n",
        "\n",
        "    while True:\n",
        "        try:\n",
        "            input_text = input(\"請輸入文字: \").strip()\n",
        "\n",
        "            if input_text.lower() == 'quit':\n",
        "                print(\"感謝使用！\")\n",
        "                break\n",
        "\n",
        "            if not input_text:\n",
        "                print(\"請輸入有效的文字\")\n",
        "                continue\n",
        "\n",
        "            print(f\"\\n輸入文字：{input_text}\")\n",
        "            print(\"=\" * 50)\n",
        "\n",
        "            # 方案一：逐字建議\n",
        "            print(\"【逐字建議】\")\n",
        "            suggestions = get_three_word_suggestions(input_text, top_k=3)\n",
        "\n",
        "            for i, position_suggestions in enumerate(suggestions):\n",
        "                print(f\"第{i+1}個字的候選：\")\n",
        "                for j, candidate in enumerate(position_suggestions):\n",
        "                    print(f\"  {j+1}. {candidate['token']} (機率: {candidate['probability']:.3f})\")\n",
        "                print()\n",
        "\n",
        "            # 方案二：完整詞語建議\n",
        "            print(\"【完整三字詞語建議】\")\n",
        "            complete_words = generate_complete_words(input_text, num_words=5)\n",
        "\n",
        "            for i, word in enumerate(complete_words):\n",
        "                print(f\"{i+1}. {input_text}{word}\")\n",
        "\n",
        "            print(\"\\n\" + \"=\" * 50 + \"\\n\")\n",
        "\n",
        "        except KeyboardInterrupt:\n",
        "            print(\"\\n程式中斷，感謝使用！\")\n",
        "            break\n",
        "        except Exception as e:\n",
        "            print(f\"發生錯誤：{e}\")\n",
        "            continue"
      ],
      "metadata": {
        "id": "VV85YFarzfrY"
      },
      "execution_count": 13,
      "outputs": []
    },
    {
      "cell_type": "code",
      "source": [
        "# ==== 示範用法 ====\n",
        "if __name__ == \"__main__\":\n",
        "    # 啟動互動模式\n",
        "    interactive_word_completion()"
      ],
      "metadata": {
        "colab": {
          "base_uri": "https://localhost:8080/"
        },
        "id": "Hu8fk0BQzZw_",
        "outputId": "c4567e8e-9266-4169-d252-f9d3bcb5bf0e"
      },
      "execution_count": 15,
      "outputs": [
        {
          "output_type": "stream",
          "name": "stdout",
          "text": [
            "=== 繁體中文三字詞語補全系統 ===\n",
            "輸入文字，系統將建議三個字的詞語\n",
            "輸入 'quit' 結束程式\n",
            "\n",
            "請輸入文字: 我想去\n",
            "\n",
            "輸入文字：我想去\n",
            "==================================================\n",
            "【逐字建議】\n",
            "第1個字的候選：\n",
            "  1. , (機率: 0.067)\n",
            "  2. 」 (機率: 0.047)\n",
            "  3. 。 (機率: 0.037)\n",
            "\n",
            "第2個字的候選：\n",
            "  1. 但 (機率: 0.186)\n",
            "  2. 我 (機率: 0.171)\n",
            "  3. 這 (機率: 0.061)\n",
            "\n",
            "第3個字的候選：\n",
            "  1. 是 (機率: 0.319)\n",
            "  2. 我 (機率: 0.317)\n",
            "  3. 這 (機率: 0.042)\n",
            "\n",
            "【完整三字詞語建議】\n",
            "1. 我想去」。昨\n",
            "2. 我想去此時,\n",
            "3. 我想去,也不\n",
            "4. 我想去好的,\n",
            "5. 我想去個月我\n",
            "\n",
            "==================================================\n",
            "\n",
            "請輸入文字: quit\n",
            "感謝使用！\n"
          ]
        }
      ]
    }
  ]
}